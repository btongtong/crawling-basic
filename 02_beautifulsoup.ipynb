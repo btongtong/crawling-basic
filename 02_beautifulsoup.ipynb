{
 "cells": [
  {
   "cell_type": "markdown",
   "metadata": {},
   "source": [
    "<html>\n",
    "<head>\n",
    "<title>BeautifulSoup Example</title>\n",
    "</head>\n",
    "<body>\n",
    "<h1>Web Crawling Process</h1>\n",
    "<h2>Web Crawling Process</h2>\n",
    "<h3>Web Crawling Process</h3>\n",
    "<p>1. requests : 웹 페이지의 HTML을 가져오는 역할</p>\n",
    "<p>2. Beautifulsoup: HTML 문서 파싱을 도와준다.</p>\n",
    "<p>3. 원하는 요소를 선택한다.</p>\n",
    "</body>\n",
    "</html>"
   ]
  },
  {
   "cell_type": "code",
   "execution_count": 4,
   "metadata": {},
   "outputs": [],
   "source": [
    "from bs4 import BeautifulSoup"
   ]
  },
  {
   "cell_type": "code",
   "execution_count": 5,
   "metadata": {},
   "outputs": [],
   "source": [
    "html_doc = '''\n",
    "<html>\n",
    "<head>\n",
    "<title>BeautifulSoup Example</title>\n",
    "</head>\n",
    "<body>\n",
    "<h1>Web Crawling Process</h1>\n",
    "<h2>Web Crawling Process</h2>\n",
    "<h3>Web Crawling Process</h3>\n",
    "<p>1. requests : 웹 페이지의 HTML을 가져오는 역할</p>\n",
    "<p>2. Beautifulsoup: HTML 문서 파싱을 도와준다.</p>\n",
    "<p>3. 원하는 요소를 선택한다.</p>\n",
    "</body>\n",
    "</html>\n",
    "'''"
   ]
  },
  {
   "cell_type": "code",
   "execution_count": 6,
   "metadata": {},
   "outputs": [],
   "source": [
    "soup = BeautifulSoup(html_doc, 'html.parser')"
   ]
  },
  {
   "cell_type": "code",
   "execution_count": 7,
   "metadata": {},
   "outputs": [],
   "source": [
    "title = soup.title\n",
    "heading1 = soup.h1\n",
    "paragraph = soup.p"
   ]
  },
  {
   "cell_type": "code",
   "execution_count": 8,
   "metadata": {},
   "outputs": [
    {
     "data": {
      "text/plain": [
       "<p>1. requests : 웹 페이지의 HTML을 가져오는 역할</p>"
      ]
     },
     "execution_count": 8,
     "metadata": {},
     "output_type": "execute_result"
    }
   ],
   "source": [
    "# title.text\n",
    "# heading1.text\n",
    "paragraph"
   ]
  },
  {
   "cell_type": "code",
   "execution_count": 9,
   "metadata": {},
   "outputs": [
    {
     "data": {
      "text/plain": [
       "[<p>1. requests : 웹 페이지의 HTML을 가져오는 역할</p>,\n",
       " <p>2. Beautifulsoup: HTML 문서 파싱을 도와준다.</p>,\n",
       " <p>3. 원하는 요소를 선택한다.</p>]"
      ]
     },
     "execution_count": 9,
     "metadata": {},
     "output_type": "execute_result"
    }
   ],
   "source": [
    "paragraph_all = soup.find_all('p')\n",
    "paragraph_all"
   ]
  },
  {
   "cell_type": "code",
   "execution_count": 10,
   "metadata": {},
   "outputs": [
    {
     "name": "stdout",
     "output_type": "stream",
     "text": [
      "1. requests : 웹 페이지의 HTML을 가져오는 역할\n",
      "2. Beautifulsoup: HTML 문서 파싱을 도와준다.\n",
      "3. 원하는 요소를 선택한다.\n"
     ]
    }
   ],
   "source": [
    "for p in paragraph_all:\n",
    "    print(p.text)"
   ]
  }
 ],
 "metadata": {
  "kernelspec": {
   "display_name": "Python 3",
   "language": "python",
   "name": "python3"
  },
  "language_info": {
   "codemirror_mode": {
    "name": "ipython",
    "version": 3
   },
   "file_extension": ".py",
   "mimetype": "text/x-python",
   "name": "python",
   "nbconvert_exporter": "python",
   "pygments_lexer": "ipython3",
   "version": "3.9.6"
  }
 },
 "nbformat": 4,
 "nbformat_minor": 2
}
